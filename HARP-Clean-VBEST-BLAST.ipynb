{
 "cells": [
  {
   "cell_type": "markdown",
   "id": "entertaining-generic",
   "metadata": {},
   "source": [
    "# Esempio di funzionamento di HARP\n",
    "https://github.com/GTmac/HARP/tree/master/src"
   ]
  },
  {
   "cell_type": "code",
   "execution_count": 2,
   "id": "powered-tribe",
   "metadata": {},
   "outputs": [
    {
     "name": "stdout",
     "output_type": "stream",
     "text": [
      "time: 204 µs (started: 2021-12-07 13:56:11 +00:00)\n"
     ]
    }
   ],
   "source": [
    "import sparker\n",
    "import pandas as pd\n",
    "from scipy import spatial\n",
    "import numpy as np\n",
    "import matplotlib.pyplot as plt\n",
    "import graph_coarsening\n",
    "import magicgraph\n",
    "import tqdm\n",
    "from multiprocessing.pool import ThreadPool\n",
    "from sklearn.metrics.pairwise import cosine_similarity\n",
    "%load_ext autotime"
   ]
  },
  {
   "cell_type": "code",
   "execution_count": 3,
   "id": "fewer-batch",
   "metadata": {},
   "outputs": [
    {
     "name": "stdout",
     "output_type": "stream",
     "text": [
      "time: 759 µs (started: 2021-12-07 13:56:11 +00:00)\n"
     ]
    }
   ],
   "source": [
    "#Visualizza i dati di un profilo\n",
    "def printProfile(p):\n",
    "    print(\"Profile ID \"+str(p.profileID))\n",
    "    print(\"Original ID \"+str(p.originalID))\n",
    "    \n",
    "    for kv in p.attributes:\n",
    "        print(kv.key+\": \"+kv.value)\n",
    "    pass\n",
    "\n",
    "#Visualizza i dati di un profilo dato l'id\n",
    "def showProfile(pid):\n",
    "    global profiles\n",
    "    p = profiles.filter(lambda x: x.profileID == pid).collect()\n",
    "    if len(p) > 0:\n",
    "        printProfile(p[0])\n",
    "    else:\n",
    "        print(\"Not found\")\n",
    "    pass\n",
    "\n",
    "def get_prog_rec(method, n, gt):\n",
    "    prog_rec = []\n",
    "    for i in range(0, n):\n",
    "        cmp = method.get_next()\n",
    "        if (cmp[1], cmp[2]) in gt:\n",
    "            prog_rec.append(1)\n",
    "        else:\n",
    "            prog_rec.append(0)\n",
    "    prog_rec = np.cumsum(prog_rec)/len(gt)\n",
    "    \n",
    "    return prog_rec"
   ]
  },
  {
   "cell_type": "markdown",
   "id": "phantom-cookbook",
   "metadata": {},
   "source": [
    "## Carico i profili\n",
    "Utilizzando SparkER carico i profili"
   ]
  },
  {
   "cell_type": "code",
   "execution_count": 4,
   "id": "endless-delivery",
   "metadata": {},
   "outputs": [
    {
     "name": "stdout",
     "output_type": "stream",
     "text": [
      "time: 2.74 s (started: 2021-12-07 13:56:11 +00:00)\n"
     ]
    }
   ],
   "source": [
    "dataset = \"datasets/movies\"\n",
    "\n",
    "profiles1 = sparker.JSONWrapper.load_profiles('/data2/luca/ER/'+dataset+'/dataset1.json', \n",
    "                                              real_id_field = \"realProfileID\",\n",
    "                                              source_id=1)\n",
    "separator_id = profiles1.map(lambda profile: profile.profile_id).max()\n",
    "separator_ids = [separator_id]\n",
    "\n",
    "profiles2 = sparker.JSONWrapper.load_profiles('/data2/luca/ER/'+dataset+'/dataset2.json', \n",
    "                                              start_id_from = separator_id+1, \n",
    "                                              real_id_field = \"realProfileID\",\n",
    "                                              source_id=2)\n",
    "max_profile_id = profiles2.map(lambda profile: profile.profile_id).max()\n",
    "profiles = profiles1.union(profiles2)"
   ]
  },
  {
   "cell_type": "code",
   "execution_count": 5,
   "id": "silent-monday",
   "metadata": {},
   "outputs": [
    {
     "name": "stdout",
     "output_type": "stream",
     "text": [
      "time: 752 ms (started: 2021-12-07 13:56:14 +00:00)\n"
     ]
    }
   ],
   "source": [
    "gt = sparker.JSONWrapper.load_groundtruth('/data2/luca/ER/'+dataset+'/groundtruth.json', 'id1', 'id2')\n",
    "new_gt = sparker.Converters.convert_groundtruth(gt, profiles1, profiles2)"
   ]
  },
  {
   "cell_type": "markdown",
   "id": "literary-bible",
   "metadata": {},
   "source": [
    "## Applico il token blocking per generare i blocchi iniziali"
   ]
  },
  {
   "cell_type": "code",
   "execution_count": 6,
   "id": "pacific-beach",
   "metadata": {},
   "outputs": [
    {
     "name": "stdout",
     "output_type": "stream",
     "text": [
      "time: 1min 6s (started: 2021-12-07 13:56:15 +00:00)\n"
     ]
    }
   ],
   "source": [
    "clusters = sparker.AttributeClustering.cluster_similar_attributes(profiles, 256, 0.2, compute_entropy=True)"
   ]
  },
  {
   "cell_type": "code",
   "execution_count": 7,
   "id": "unnecessary-remedy",
   "metadata": {},
   "outputs": [
    {
     "name": "stdout",
     "output_type": "stream",
     "text": [
      "['2_director name', '1_writer']\n",
      "['2_actor name', '1_starring']\n",
      "['1_title', '2_title']\n",
      "['2_genre', '2_url', '2_imdb_ksearch_id', '1_editor', '2_year']\n",
      "time: 611 µs (started: 2021-12-07 13:57:21 +00:00)\n"
     ]
    }
   ],
   "source": [
    "for c in clusters:\n",
    "    print(c.keys)"
   ]
  },
  {
   "cell_type": "code",
   "execution_count": 8,
   "id": "competent-locking",
   "metadata": {},
   "outputs": [
    {
     "name": "stdout",
     "output_type": "stream",
     "text": [
      "time: 2.77 s (started: 2021-12-07 13:57:21 +00:00)\n"
     ]
    }
   ],
   "source": [
    "blocks = sparker.Blocking.create_blocks_clusters(profiles, clusters, separator_ids)"
   ]
  },
  {
   "cell_type": "markdown",
   "id": "departmental-furniture",
   "metadata": {},
   "source": [
    "## Eseguo purging e filtering per rimuovere edge superflui"
   ]
  },
  {
   "cell_type": "code",
   "execution_count": 9,
   "id": "sensitive-northeast",
   "metadata": {},
   "outputs": [
    {
     "name": "stdout",
     "output_type": "stream",
     "text": [
      "time: 916 ms (started: 2021-12-07 13:57:24 +00:00)\n"
     ]
    }
   ],
   "source": [
    "# Perfoms the purging\n",
    "blocks_purged = sparker.BlockPurging.block_purging(blocks, 1.025)\n",
    "# Performs the cleaning\n",
    "(profile_blocks, profile_blocks_filtered, blocks_after_filtering) = sparker.BlockFiltering.block_filtering_quick(blocks_purged, 0.8, separator_ids)"
   ]
  },
  {
   "cell_type": "markdown",
   "id": "meaningful-portugal",
   "metadata": {},
   "source": [
    "## Applico il meta-blocking per ottenere gli edge rilevanti"
   ]
  },
  {
   "cell_type": "code",
   "execution_count": 10,
   "id": "medical-warrior",
   "metadata": {},
   "outputs": [
    {
     "name": "stdout",
     "output_type": "stream",
     "text": [
      "time: 3.95 s (started: 2021-12-07 13:57:25 +00:00)\n"
     ]
    }
   ],
   "source": [
    "block_index_map = blocks_after_filtering.map(lambda b : (b.block_id, b.profiles)).collectAsMap()\n",
    "block_index = sc.broadcast(block_index_map)\n",
    "\n",
    "profileBlocksSizeIndex = sc.broadcast(profile_blocks_filtered.map(lambda pb : (pb.profile_id, len(pb.blocks))).collectAsMap())\n",
    "entropiesMap = blocks.map(lambda b : (b.block_id, b.entropy)).collectAsMap()\n",
    "entropies = sc.broadcast(entropiesMap)"
   ]
  },
  {
   "cell_type": "code",
   "execution_count": 11,
   "id": "dying-wayne",
   "metadata": {},
   "outputs": [
    {
     "name": "stdout",
     "output_type": "stream",
     "text": [
      "time: 3min 25s (started: 2021-12-07 13:57:29 +00:00)\n"
     ]
    }
   ],
   "source": [
    "results = sparker.WNP.wnp(\n",
    "                          profile_blocks_filtered,\n",
    "                          block_index,\n",
    "                          max_profile_id,\n",
    "                          separator_ids,\n",
    "                          weight_type=sparker.WeightTypes.CHI_SQUARE,\n",
    "                          groundtruth=None,\n",
    "                          profile_blocks_size_index=profileBlocksSizeIndex,\n",
    "                          threshold_type=sparker.ThresholdTypes.MAX_FRACT_2,\n",
    "                          use_entropy=True,\n",
    "                          blocks_entropies=entropies,\n",
    "                          chi2divider=4.0\n",
    "                         )\n",
    "\n",
    "#Alternativa che si può usare per ottenere gli edge pesati SENZA applicare il metablocking\n",
    "\"\"\"\n",
    "results = sparker.WNP.get_all_edges(\n",
    "                          profileBlocksFiltered,\n",
    "                          blockIndex,\n",
    "                          maxProfileID,\n",
    "                          separatorIDs,\n",
    "                          sparker.WeightTypes.JS,\n",
    "                          profileBlocksSizeIndex\n",
    "                         )\n",
    "\"\"\"\n",
    "\n",
    "#Raccolgo tutti gli edge\n",
    "edges = results.flatMap(lambda x: x[2]).collect()"
   ]
  },
  {
   "cell_type": "code",
   "execution_count": 12,
   "id": "technical-validity",
   "metadata": {},
   "outputs": [
    {
     "name": "stdout",
     "output_type": "stream",
     "text": [
      "Recall 0.9405589817609238\n",
      "Precision 0.23032925601422422\n",
      "time: 29.7 ms (started: 2021-12-07 14:00:55 +00:00)\n"
     ]
    }
   ],
   "source": [
    "#Calcolo la recall alla fine del meta-blocking\n",
    "nm = 0\n",
    "for e in edges:\n",
    "    if (e[0], e[1]) in new_gt:\n",
    "        nm += 1\n",
    "\n",
    "prec = nm / len(edges)       \n",
    "rec = nm / len(new_gt)\n",
    "print(\"Recall\",rec)\n",
    "print(\"Precision\",prec)"
   ]
  },
  {
   "cell_type": "markdown",
   "id": "dirty-complex",
   "metadata": {},
   "source": [
    "## Utilizzo gli edge pesati del meta-blocking per creare un grafo e generare gli embeddings"
   ]
  },
  {
   "cell_type": "code",
   "execution_count": 13,
   "id": "equivalent-providence",
   "metadata": {},
   "outputs": [
    {
     "name": "stdout",
     "output_type": "stream",
     "text": [
      "time: 3.82 ms (started: 2021-12-07 14:00:55 +00:00)\n"
     ]
    }
   ],
   "source": [
    "class embedder:\n",
    "    def __init__(self, emb_size, max_profile_id, gt, sep=-1):\n",
    "        \"\"\"\n",
    "            emb_size -> dimensione embedding\n",
    "            max_profile_id -> id massimo esistente tra i profili\n",
    "            gt -> groundtruth\n",
    "            sep -> separatore tra profili (solo se clean-clean)\n",
    "        \"\"\"\n",
    "        self.sep = sep\n",
    "        self.emb_size = emb_size\n",
    "        self.max_profile_id = max_profile_id\n",
    "        self.gt = gt\n",
    "        pass\n",
    "    \n",
    "    def get_embeddings(self):\n",
    "        return self.embeddings_mat\n",
    "    \n",
    "    def get_emb2profile(self):\n",
    "        return self.emb2profile\n",
    "    \n",
    "    \n",
    "    def fit(self, edges, weighted=True, undirected=True):\n",
    "        \"\"\"\n",
    "            Genera gli embeddings forniti gli edge ottenuti dal meta-blocking\n",
    "        \"\"\"\n",
    "        \n",
    "        #Creo il grafo\n",
    "        self.G = magicgraph.from_edges(edges, weighted=weighted, undirected=undirected)\n",
    "        self.G = graph_coarsening.DoubleWeightedDiGraph(self.G)\n",
    "        #Genero gli embeddings\n",
    "        sfdp_path = \"./\"\n",
    "        number_walks = 40\n",
    "        walk_length = 10\n",
    "        representation_size = self.emb_size\n",
    "        window_size = 2\n",
    "        #Questo è un dictionary che contiene come chiave l'id del nodo\n",
    "        #Un nodo, se non compare negli edge, può non essere embeddato.\n",
    "        self.embeddings = graph_coarsening.skipgram_coarsening_disconnected(self.G, scale=-1, iter_count=1,\n",
    "                sfdp_path=sfdp_path,\n",
    "                num_paths=number_walks,\n",
    "                path_length=walk_length,\n",
    "                representation_size=representation_size,\n",
    "                window_size=window_size,\n",
    "                lr_scheme='default',\n",
    "                alpha=0.025,min_alpha=0.001,sg=1,hs=0,coarsening_scheme=2, sample=0.1)\n",
    "        \n",
    "        #Inizializzo la matrice degli embeddings, dimensione max x max\n",
    "        self.embeddings_mat = np.zeros(shape=(self.max_profile_id+1, self.emb_size))\n",
    "        #Profili per cui non esiste un embedding\n",
    "        self.not_found = []\n",
    "\n",
    "        #Inizializzo gli indici e creo la matrice\n",
    "        for p in range(0, self.max_profile_id+1):\n",
    "            #Se per il profilo è stato calcolato un embeddings lo aggiungo alla matrice\n",
    "            if p in self.embeddings:\n",
    "                self.embeddings_mat[p] = self.embeddings[p]\n",
    "            else:\n",
    "                self.not_found.append(p)\n",
    "\n",
    "                \n",
    "        #Calcolo la similarità tra i profili, crea una matrice simmetrica di dimensioni max_profile_id+1 \n",
    "        #x max_profile_id+1\n",
    "        self.sim = (cosine_similarity(self.embeddings_mat)+1)/2\n",
    "        #Annullo le similarità dei profili con se stessi\n",
    "        np.fill_diagonal(self.sim, 0)\n",
    "        #Siccome la matrice è simmetrica tengo solo il triangolo superiore\n",
    "        self.sim = np.triu(self.sim)\n",
    "\n",
    "        #Annullo le similarità di tutti i vettori per cui non esiste l'embedding\n",
    "        for p in self.not_found:\n",
    "            self.sim[: , p] = 0\n",
    "            self.sim[p, :] = 0\n",
    "\n",
    "        #Se è clean-clean annullo tutte le similarità tra elementi dello stesso dataset\n",
    "        if self.sep >= 0:\n",
    "            self.sim = self.sim[0:self.sep+1, :]\n",
    "            for p in range(0, len(self.sim)):\n",
    "                self.sim[p, 0:self.sep+1] = 0\n",
    "    \n",
    "    \n",
    "    def get_top_k(self, p, k):\n",
    "        \"\"\"\n",
    "            Dato l'id di un profilo\n",
    "            ritorna i suoi k vicini più simili usando gli embeddings.\n",
    "            Usa la cosine similarity per calcolare la similarità.\n",
    "            p -> id del profilo\n",
    "            k -> numero di vicini che si vogliono ottenere\n",
    "        \"\"\"\n",
    "        #Preno la cosine del profilo con tutti gli altri embeddings\n",
    "        top_k = np.argpartition(self.sim[p], -k)[-k:]\n",
    "        #Argpartition mi dà i top-k non ordinati\n",
    "        #Quindi ordino per similarità ritornando le triple (p1, p2, sim_p1_p2)\n",
    "        #Per come ho costruito sim sono sicuro che p1 < p2\n",
    "        #Ritorno solo le similarità valide, cioè > 0\n",
    "        return sorted([(n, self.sim[p][n]) for n in top_k if self.sim[p][n] > 0], key=lambda x: -x[1])\n",
    "    \n",
    "    def calc_progressive_recall(self, k):\n",
    "        \"\"\"\n",
    "            Calcola la recall progressiva dato k.\n",
    "            Partendo da k_int=1 fino a k_int=k\n",
    "            per ogni profilo prende i top-k_int profili più simili\n",
    "            li ordina tutti per similarità descrescente e calcola la recall progressiva.\n",
    "            Quella che viene restituita è la recall progressiva in percentuale dopo l'emissione di ogni coppia.\n",
    "        \"\"\"   \n",
    "        #Se il dataset è clean prendo solo i top-k dei profili del primo set di profili\n",
    "        if self.sep >= 0:\n",
    "            idx = [i for i in range(0, self.sep+1) if i in self.embeddings.keys()]\n",
    "        else:\n",
    "            idx = self.embeddings.keys()\n",
    "        \n",
    "        #Calcolo in parallelo i top-k per ogni profilo\n",
    "        pool = ThreadPool()\n",
    "        top_k = dict(pool.map(lambda p: (p, self.get_top_k(p, k)), idx))\n",
    "        \n",
    "        print(\"Top-k done\")\n",
    "            \n",
    "        #Recall progressiva\n",
    "        p_rec = []\n",
    "        \n",
    "        #Simulo l'incremento di k, quindi prendo prima k=1, poi k=2, etc.\n",
    "        for k_int in range(0, k):\n",
    "            #Genero tutte le coppie alla distanza del k corrente\n",
    "            int_pairs = []\n",
    "            #Per ogni profilo\n",
    "            for p_id in idx:\n",
    "                #Id del vicino\n",
    "                n_id = top_k[p_id][k_int][0]\n",
    "                #Emetto solo se p_id < n_id, altrimenti ci pensa il vicino (Potrebbe accadere nei dataset dirty?)\n",
    "                if p_id < n_id:\n",
    "                    #Similarità\n",
    "                    sim = top_k[p_id][k_int][1]\n",
    "                    int_pairs.append((p_id, n_id, sim))\n",
    "            \n",
    "            #Ordino in base alla similarità descrescente\n",
    "            int_pairs = sorted(int_pairs, key=lambda x: -x[2])\n",
    "            #Segno 1 se la coppia è nel groundtruth altrimenti 0\n",
    "            p_rec += [1 if (p[0], p[1]) in self.gt else 0 for p in int_pairs]\n",
    "        \n",
    "        #Calcolo la recall progressiva\n",
    "        return np.cumsum(p_rec)/len(self.gt)"
   ]
  },
  {
   "cell_type": "markdown",
   "id": "imposed-learning",
   "metadata": {},
   "source": [
    "## Uso gli embeddings per eseguire il retrieving dinamico"
   ]
  },
  {
   "cell_type": "code",
   "execution_count": 14,
   "id": "tutorial-member",
   "metadata": {},
   "outputs": [
    {
     "name": "stdout",
     "output_type": "stream",
     "text": [
      "time: 9.61 ms (started: 2021-12-07 14:00:55 +00:00)\n"
     ]
    }
   ],
   "source": [
    "emb = embedder(128, max_profile_id, new_gt, separator_id)"
   ]
  },
  {
   "cell_type": "code",
   "execution_count": 15,
   "id": "documentary-slovenia",
   "metadata": {},
   "outputs": [
    {
     "name": "stdout",
     "output_type": "stream",
     "text": [
      "{'scale': -1, 'iter_count': 1, 'sfdp_path': './', 'num_paths': 40, 'path_length': 10, 'representation_size': 128, 'window_size': 2, 'lr_scheme': 'default', 'alpha': 0.025, 'min_alpha': 0.001, 'sg': 1, 'hs': 0, 'coarsening_scheme': 2, 'sample': 0.1}\n",
      "49931\n",
      "Subgraph 1 with 28330 nodes and 162324 edges\n",
      "Graph Coarsening...\n",
      "Training negative sampling model...\n",
      "Start building Skip-gram + Negative Sampling model on the coarsened graphs...\n",
      "Training on graph level 0...\n",
      "Finish building Skip-gram model on the coarsened graphs.\n",
      "Subgraph 2 with 21601 nodes and 24400 edges\n",
      "Training the Negative Sampling Model...\n",
      "Finish training the Skip-gram model.\n",
      "time: 1min 27s (started: 2021-12-07 14:00:55 +00:00)\n"
     ]
    }
   ],
   "source": [
    "emb.fit(edges)"
   ]
  },
  {
   "cell_type": "code",
   "execution_count": 16,
   "id": "collaborative-scope",
   "metadata": {},
   "outputs": [
    {
     "name": "stdout",
     "output_type": "stream",
     "text": [
      "Top-k done\n",
      "time: 7.03 s (started: 2021-12-07 14:02:22 +00:00)\n"
     ]
    }
   ],
   "source": [
    "p_rec = emb.calc_progressive_recall(10)"
   ]
  },
  {
   "cell_type": "code",
   "execution_count": 25,
   "id": "front-georgia",
   "metadata": {},
   "outputs": [
    {
     "name": "stdout",
     "output_type": "stream",
     "text": [
      "time: 21.8 s (started: 2021-12-07 14:05:54 +00:00)\n"
     ]
    }
   ],
   "source": [
    "gp = sparker.GSPSN(profiles, 5, separator_id)\n",
    "gp.initialize()"
   ]
  },
  {
   "cell_type": "code",
   "execution_count": 26,
   "id": "illegal-while",
   "metadata": {},
   "outputs": [
    {
     "name": "stdout",
     "output_type": "stream",
     "text": [
      "time: 9.29 s (started: 2021-12-07 14:06:16 +00:00)\n"
     ]
    }
   ],
   "source": [
    "pps = sparker.PPS(profile_blocks_filtered, block_index, max_profile_id, separator_ids, sparker.WeightTypes.CBS,\n",
    "                  mini_batch=100)\n",
    "pps.initialize()"
   ]
  },
  {
   "cell_type": "code",
   "execution_count": 27,
   "id": "contrary-trailer",
   "metadata": {},
   "outputs": [
    {
     "name": "stdout",
     "output_type": "stream",
     "text": [
      "time: 303 ms (started: 2021-12-07 14:06:25 +00:00)\n"
     ]
    }
   ],
   "source": [
    "n = 50000\n",
    "gp_rec = get_prog_rec(gp, n, new_gt)"
   ]
  },
  {
   "cell_type": "code",
   "execution_count": 28,
   "id": "destroyed-representative",
   "metadata": {},
   "outputs": [
    {
     "name": "stdout",
     "output_type": "stream",
     "text": [
      "time: 13.7 s (started: 2021-12-07 14:06:25 +00:00)\n"
     ]
    }
   ],
   "source": [
    "pps_rec = get_prog_rec(pps, n, new_gt)"
   ]
  },
  {
   "cell_type": "code",
   "execution_count": 30,
   "id": "diverse-juice",
   "metadata": {},
   "outputs": [
    {
     "data": {
      "image/png": "[encoded data removed]",
      "text/plain": [
       "<Figure size 720x360 with 1 Axes>"
      ]
     },
     "metadata": {
      "needs_background": "light"
     },
     "output_type": "display_data"
    },
    {
     "name": "stdout",
     "output_type": "stream",
     "text": [
      "time: 228 ms (started: 2021-12-07 14:06:59 +00:00)\n"
     ]
    }
   ],
   "source": [
    "fig, ax = plt.subplots(1, 1)\n",
    "fig.set_size_inches(10, 5)\n",
    "ax.set_title(dataset, fontsize=20)\n",
    "ax.set_xlabel('#Comparisons', fontsize=18)\n",
    "ax.set_ylabel('Recall', fontsize=18)\n",
    "plt.plot(p_rec[0:n], label=\"HARP\")\n",
    "plt.plot(pps_rec[0:n], label=\"PPS\")\n",
    "plt.plot(gp_rec[0:n], label=\"GSPSN\")\n",
    "plt.plot([0, len(new_gt)], [0, 1], 'r--', label=\"ideal\")\n",
    "plt.legend(fontsize=15)\n",
    "plt.show()"
   ]
  },
  {
   "cell_type": "code",
   "execution_count": null,
   "id": "boolean-pendant",
   "metadata": {},
   "outputs": [],
   "source": []
  }
 ],
 "metadata": {
  "kernelspec": {
   "display_name": "Python 3",
   "language": "python",
   "name": "python3"
  },
  "language_info": {
   "codemirror_mode": {
    "name": "ipython",
    "version": 3
   },
   "file_extension": ".py",
   "mimetype": "text/x-python",
   "name": "python",
   "nbconvert_exporter": "python",
   "pygments_lexer": "ipython3",
   "version": "3.7.10"
  }
 },
 "nbformat": 4,
 "nbformat_minor": 5
}
